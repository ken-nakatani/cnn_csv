{
 "cells": [
  {
   "cell_type": "code",
   "execution_count": null,
   "metadata": {},
   "outputs": [],
   "source": [
    "# -*- encoding: utf-8 -*-\n",
    "from keras.layers import MaxPooling2D\n",
    "from keras.applications.vgg16 import VGG16, preprocess_input\n",
    "from keras.preprocessing import image\n",
    "from keras import models\n",
    "import numpy as np\n",
    "import math\n",
    "import matplotlib.pyplot as plt\n",
    "import seaborn as sns\n",
    "from keras.models import model_from_json\n",
    "from keras.utils import np_utils\n",
    "import matplotlib.pyplot as plt\n",
    "import os\n",
    "from keras.preprocessing.image import ImageDataGenerator\n",
    "from keras.models import Sequential, Model\n",
    "from keras.layers import Input, Activation, Dropout, Flatten, Dense\n",
    "from keras.preprocessing.image import ImageDataGenerator\n",
    "from keras import optimizers\n",
    "import numpy as np\n",
    "import time\n",
    "import tensorflow as tf\n",
    "import sys\n",
    "import glob\n",
    "\n",
    "model = model_from_json(open('/home/nakataniken/VGG16-Finetuning-model.json').read())\n",
    "model.load_weights('/home/nakataniken/VGG16-Finetuning-weight.h5')\n",
    "\n",
    "\n",
    "file_list = glob.glob('/home/nakataniken/変形画像集/test/Aerial/*.bmp')\n",
    "for x,file in enumerate(file_list):\n",
    "    img = image.load_img(file, target_size=(150, 150))\n",
    "    img = image.img_to_array(img)\n",
    "    img = np.expand_dims(img, axis=0)\n",
    "    img = preprocess_input(img)\n",
    "    print(\"IMAGE: %s\" % str(img.shape))\n",
    "\n",
    "    # ImageNet データセットでFine-tuning済みの VGG16 をロード\n",
    "    layers = model.layers[1:4]\n",
    "    layer_outputs = [layer.output for layer in layers]\n",
    "    activation_model = models.Model(inputs=model.input, outputs=layer_outputs)\n",
    "    activation_model.summary()\n",
    "\n",
    "\n",
    "    activations = activation_model.predict(img)\n",
    "    \n",
    "\n",
    "    #Pooling層のみを行列で出力\n",
    "    activations = [activation for layer, activation in zip(layers, activations) if isinstance(layer, MaxPooling2D)]\n",
    "    \n",
    "\n",
    "\n",
    "    for i, activation in enumerate(activations):\n",
    "        num_of_image = activation.shape[3]\n",
    "        for j in range(0, num_of_image):\n",
    "            np.savetxt(\"/home/nakataniken/CNNのCSVファイル/pooling1/%d_%d_%d.csv\" % (x+1,i+1, j+1),activation[0, :, :, j])\n"
   ]
  },
  {
   "cell_type": "code",
   "execution_count": null,
   "metadata": {},
   "outputs": [],
   "source": []
  }
 ],
 "metadata": {
  "kernelspec": {
   "display_name": "Python 3",
   "language": "python",
   "name": "python3"
  },
  "language_info": {
   "codemirror_mode": {
    "name": "ipython",
    "version": 3
   },
   "file_extension": ".py",
   "mimetype": "text/x-python",
   "name": "python",
   "nbconvert_exporter": "python",
   "pygments_lexer": "ipython3",
   "version": "3.7.4"
  }
 },
 "nbformat": 4,
 "nbformat_minor": 2
}
